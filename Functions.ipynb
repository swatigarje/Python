{
 "cells": [
  {
   "cell_type": "markdown",
   "id": "7c50f2d0",
   "metadata": {},
   "source": [
    "# Write a function to find the max /min of three numbers."
   ]
  },
  {
   "cell_type": "code",
   "execution_count": 1,
   "id": "c19950ee",
   "metadata": {},
   "outputs": [
    {
     "name": "stdout",
     "output_type": "stream",
     "text": [
      "65\n"
     ]
    }
   ],
   "source": [
    "def maximum(*n):\n",
    "    if n:\n",
    "        mn=n[0]\n",
    "        for value in n[1:]:\n",
    "            if value>mn:\n",
    "                mn=value\n",
    "        print(mn)\n",
    "maximum(12,34,65) \n",
    "maximum()"
   ]
  },
  {
   "cell_type": "code",
   "execution_count": 2,
   "id": "77f0754d",
   "metadata": {},
   "outputs": [
    {
     "name": "stdout",
     "output_type": "stream",
     "text": [
      "12\n"
     ]
    }
   ],
   "source": [
    "def minimum(*n):\n",
    "    if n:\n",
    "        mn=n[0]\n",
    "        for value in n[1:]:\n",
    "            if value<mn:\n",
    "                mn=value\n",
    "        print(mn)\n",
    "minimum(12,34,65) \n",
    "minimum()\n",
    "    "
   ]
  },
  {
   "cell_type": "markdown",
   "id": "c0c329f0",
   "metadata": {},
   "source": [
    "# Write a function to sum all the numbers in a list."
   ]
  },
  {
   "cell_type": "code",
   "execution_count": 3,
   "id": "c3d3b70a",
   "metadata": {},
   "outputs": [],
   "source": [
    "def add(*args): \n",
    "    return sum(args)"
   ]
  },
  {
   "cell_type": "code",
   "execution_count": 4,
   "id": "ae76fbf4",
   "metadata": {},
   "outputs": [
    {
     "name": "stdout",
     "output_type": "stream",
     "text": [
      "6\n",
      "109\n",
      "149\n"
     ]
    }
   ],
   "source": [
    "print(add(1,2,3))\n",
    "print(add(11,12,23,45,18))\n",
    "print(add(7,8,9,34,55,23,12,1))"
   ]
  },
  {
   "cell_type": "markdown",
   "id": "a8fb6099",
   "metadata": {},
   "source": [
    "# Write a function to multiply all numbers in a list."
   ]
  },
  {
   "cell_type": "code",
   "execution_count": 5,
   "id": "6a0310ed",
   "metadata": {},
   "outputs": [
    {
     "name": "stdout",
     "output_type": "stream",
     "text": [
      "15\n",
      "18\n",
      "21\n",
      "product is : 5670\n"
     ]
    }
   ],
   "source": [
    "def pro():\n",
    "    a=int(input())\n",
    "    b=int(input())\n",
    "    c=int(input())\n",
    "    print(\"product is :\",a*b*c)\n",
    "pro()    "
   ]
  },
  {
   "cell_type": "markdown",
   "id": "d22ed649",
   "metadata": {},
   "source": [
    "# write a function to reverse a string"
   ]
  },
  {
   "cell_type": "code",
   "execution_count": 6,
   "id": "e2d7f9fe",
   "metadata": {},
   "outputs": [],
   "source": [
    "def reverse_string(string):\n",
    "    reversed_string=''.join(reversed(string))\n",
    "    return reversed_string"
   ]
  },
  {
   "cell_type": "code",
   "execution_count": null,
   "id": "44abf520",
   "metadata": {},
   "outputs": [],
   "source": [
    "# string='Hello world'\n",
    "reversed_string=reverse_string(string)\n",
    "print(reversed_string)"
   ]
  },
  {
   "cell_type": "markdown",
   "id": "d7c80edd",
   "metadata": {},
   "source": [
    "# write a function to calculate the factorial of a number."
   ]
  },
  {
   "cell_type": "code",
   "execution_count": 8,
   "id": "0ea3480d",
   "metadata": {},
   "outputs": [
    {
     "name": "stdout",
     "output_type": "stream",
     "text": [
      "enter the number6\n",
      "720\n"
     ]
    }
   ],
   "source": [
    "def fact(x):\n",
    "    res=1\n",
    "    for i in range(1,x+1):\n",
    "        res=res*i\n",
    "    return res\n",
    "num=int(input(\"enter the number\"))\n",
    "print(fact(num))"
   ]
  },
  {
   "cell_type": "markdown",
   "id": "97104697",
   "metadata": {},
   "source": [
    "# Write a function that accepts a string and calculate the number of upper case letters and lower case letters."
   ]
  },
  {
   "cell_type": "code",
   "execution_count": 10,
   "id": "c8b64189",
   "metadata": {},
   "outputs": [],
   "source": [
    " def my_string(string):\n",
    "        a={'upper_case':0,'lower_case':0}\n",
    "        for c in string:\n",
    "            if c.isupper():\n",
    "                a['upper_case']+=1\n",
    "            elif c.islower() :\n",
    "                a['lower_case']+=1\n",
    "            else:\n",
    "                pass\n",
    "            print(f\"original string\",a)\n",
    "            print"
   ]
  },
  {
   "cell_type": "markdown",
   "id": "4592c0ab",
   "metadata": {},
   "source": [
    "# Write a function that takes a list and return a new list with unique elements of the first list."
   ]
  },
  {
   "cell_type": "code",
   "execution_count": 11,
   "id": "65cd6de3",
   "metadata": {},
   "outputs": [
    {
     "name": "stdout",
     "output_type": "stream",
     "text": [
      "[1, 2, 3, 4, 5, 6]\n"
     ]
    }
   ],
   "source": [
    "def ulist(num):\n",
    "    uq=[]\n",
    "    for item in num:\n",
    "        if item not in uq:\n",
    "            uq.append(item)\n",
    "    return uq\n",
    "print(ulist([1,2,3,4,5,6,1,2,5,3]))"
   ]
  },
  {
   "cell_type": "code",
   "execution_count": null,
   "id": "de12db50",
   "metadata": {},
   "outputs": [],
   "source": []
  }
 ],
 "metadata": {
  "kernelspec": {
   "display_name": "Python 3 (ipykernel)",
   "language": "python",
   "name": "python3"
  },
  "language_info": {
   "codemirror_mode": {
    "name": "ipython",
    "version": 3
   },
   "file_extension": ".py",
   "mimetype": "text/x-python",
   "name": "python",
   "nbconvert_exporter": "python",
   "pygments_lexer": "ipython3",
   "version": "3.9.13"
  }
 },
 "nbformat": 4,
 "nbformat_minor": 5
}
