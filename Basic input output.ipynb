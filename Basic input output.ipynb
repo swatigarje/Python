{
 "cells": [
  {
   "cell_type": "markdown",
   "id": "a089494c",
   "metadata": {},
   "source": [
    "# Self Introduction"
   ]
  },
  {
   "cell_type": "code",
   "execution_count": 2,
   "id": "459e942d",
   "metadata": {},
   "outputs": [
    {
     "name": "stdout",
     "output_type": "stream",
     "text": [
      "My name is Swati\n"
     ]
    }
   ],
   "source": [
    "a=\"My name is Swati\"\n",
    "print(a)"
   ]
  },
  {
   "cell_type": "code",
   "execution_count": 4,
   "id": "c5597889",
   "metadata": {},
   "outputs": [
    {
     "name": "stdout",
     "output_type": "stream",
     "text": [
      "I am from Pune\n"
     ]
    }
   ],
   "source": [
    "b=\"I am from Pune\"\n",
    "print(b)"
   ]
  },
  {
   "cell_type": "code",
   "execution_count": 5,
   "id": "9159984e",
   "metadata": {},
   "outputs": [
    {
     "name": "stdout",
     "output_type": "stream",
     "text": [
      "I have completed my graduation in BSc agriculture\n"
     ]
    }
   ],
   "source": [
    "b1='I have completed my graduation in BSc agriculture'\n",
    "print(b1)"
   ]
  },
  {
   "cell_type": "markdown",
   "id": "a10bb4bd",
   "metadata": {},
   "source": [
    "# Arithematic operations"
   ]
  },
  {
   "cell_type": "markdown",
   "id": "76ca7c23",
   "metadata": {},
   "source": [
    "Addition"
   ]
  },
  {
   "cell_type": "code",
   "execution_count": 6,
   "id": "5088eb07",
   "metadata": {},
   "outputs": [
    {
     "name": "stdout",
     "output_type": "stream",
     "text": [
      "48\n"
     ]
    }
   ],
   "source": [
    "a=36\n",
    "b=12\n",
    "c=a+b\n",
    "print(c)"
   ]
  },
  {
   "cell_type": "markdown",
   "id": "85e72dbd",
   "metadata": {},
   "source": [
    "subtraction"
   ]
  },
  {
   "cell_type": "code",
   "execution_count": 7,
   "id": "f06a0415",
   "metadata": {},
   "outputs": [
    {
     "name": "stdout",
     "output_type": "stream",
     "text": [
      "24\n"
     ]
    }
   ],
   "source": [
    "a=36\n",
    "b=12\n",
    "c=a-b\n",
    "print(c)"
   ]
  },
  {
   "cell_type": "markdown",
   "id": "3f4ba39d",
   "metadata": {},
   "source": [
    "multiplication"
   ]
  },
  {
   "cell_type": "code",
   "execution_count": 8,
   "id": "bb02321b",
   "metadata": {},
   "outputs": [
    {
     "name": "stdout",
     "output_type": "stream",
     "text": [
      "432\n"
     ]
    }
   ],
   "source": [
    "a=36\n",
    "b=12\n",
    "c=a*b\n",
    "print(c)"
   ]
  },
  {
   "cell_type": "markdown",
   "id": "44ab0bd7",
   "metadata": {},
   "source": [
    "Division"
   ]
  },
  {
   "cell_type": "code",
   "execution_count": 9,
   "id": "9a9090f3",
   "metadata": {},
   "outputs": [
    {
     "name": "stdout",
     "output_type": "stream",
     "text": [
      "3.0\n"
     ]
    }
   ],
   "source": [
    "a=36\n",
    "b=12\n",
    "c=a/b\n",
    "print(c)"
   ]
  },
  {
   "cell_type": "markdown",
   "id": "47e683c5",
   "metadata": {},
   "source": [
    "modulus"
   ]
  },
  {
   "cell_type": "code",
   "execution_count": 11,
   "id": "f23674e1",
   "metadata": {},
   "outputs": [
    {
     "name": "stdout",
     "output_type": "stream",
     "text": [
      "0\n"
     ]
    }
   ],
   "source": [
    "a=36\n",
    "b=12\n",
    "c=a%b\n",
    "print(c)"
   ]
  },
  {
   "cell_type": "markdown",
   "id": "ac87c052",
   "metadata": {},
   "source": [
    "Exponent"
   ]
  },
  {
   "cell_type": "code",
   "execution_count": 12,
   "id": "2444baf3",
   "metadata": {},
   "outputs": [
    {
     "name": "stdout",
     "output_type": "stream",
     "text": [
      "16\n"
     ]
    }
   ],
   "source": [
    "a=4\n",
    "b=2\n",
    "c=a**b\n",
    "print(c)"
   ]
  },
  {
   "cell_type": "markdown",
   "id": "e0ccbbe7",
   "metadata": {},
   "source": [
    "# Swap of two numbers"
   ]
  },
  {
   "cell_type": "code",
   "execution_count": 13,
   "id": "95e4f905",
   "metadata": {},
   "outputs": [
    {
     "name": "stdout",
     "output_type": "stream",
     "text": [
      "enter the number12\n",
      "enter the number10\n",
      "10 12\n"
     ]
    }
   ],
   "source": [
    "x=int(input(\"enter the number\"))\n",
    "y=int(input(\"enter the number\"))\n",
    "x=x+y\n",
    "y=x-y\n",
    "x=x-y\n",
    "print(x,y)"
   ]
  },
  {
   "cell_type": "markdown",
   "id": "24fb5759",
   "metadata": {},
   "source": [
    "Swap of two numbers without using third variable"
   ]
  },
  {
   "cell_type": "code",
   "execution_count": 14,
   "id": "e0ef6c97",
   "metadata": {},
   "outputs": [
    {
     "name": "stdout",
     "output_type": "stream",
     "text": [
      "enter the number12\n",
      "enter the number10\n",
      "22 12\n"
     ]
    }
   ],
   "source": [
    "x=int(input(\"enter the number\"))\n",
    "y=int(input(\"enter the number\"))\n",
    "x=x+y\n",
    "y=x-y\n",
    "print(x,y)"
   ]
  },
  {
   "cell_type": "markdown",
   "id": "135afff7",
   "metadata": {},
   "source": [
    "#Simple interest"
   ]
  },
  {
   "cell_type": "code",
   "execution_count": 19,
   "id": "e5b95b48",
   "metadata": {},
   "outputs": [
    {
     "name": "stdout",
     "output_type": "stream",
     "text": [
      "enter principal amount5000\n",
      "enter rate of interest4\n",
      "enter number of years2\n",
      "400.0\n"
     ]
    }
   ],
   "source": [
    "p=int(input(\"enter principal amount\"))\n",
    "r=int(input(\"enter rate of interest\"))\n",
    "t=int(input(\"enter number of years\"))\n",
    "SI=(p*r*t)/100\n",
    "print(SI)"
   ]
  },
  {
   "cell_type": "markdown",
   "id": "435b84a5",
   "metadata": {},
   "source": [
    "Average"
   ]
  },
  {
   "cell_type": "code",
   "execution_count": 20,
   "id": "5b3d980d",
   "metadata": {},
   "outputs": [
    {
     "name": "stdout",
     "output_type": "stream",
     "text": [
      "enter the number10\n",
      "enter the number55\n",
      "enter the number78\n",
      "enter the number69\n",
      "enter the number31\n",
      "addition is  243\n",
      "Average= 48.6\n"
     ]
    }
   ],
   "source": [
    "a=int(input(\"enter the number\"))\n",
    "b=int(input(\"enter the number\"))\n",
    "c=int(input(\"enter the number\"))\n",
    "d=int(input(\"enter the number\"))\n",
    "e=int(input(\"enter the number\"))\n",
    "add=a+b+c+d+e\n",
    "print(\"addition is \",add)\n",
    "average=add/5\n",
    "print(\"Average=\",average)"
   ]
  },
  {
   "cell_type": "markdown",
   "id": "7f758d29",
   "metadata": {},
   "source": [
    "Discriminant of a quadratic equation"
   ]
  },
  {
   "cell_type": "code",
   "execution_count": 1,
   "id": "5c543b96",
   "metadata": {},
   "outputs": [
    {
     "name": "stdout",
     "output_type": "stream",
     "text": [
      "enter the number9\n",
      "enter the number5\n",
      "enter the number3\n",
      "discriminant= 21\n"
     ]
    }
   ],
   "source": [
    "b=int(input('enter the number'))\n",
    "a=int(input('enter the number'))\n",
    "c=int(input('enter the number'))\n",
    "d=b**2-4*a*c\n",
    "print('discriminant=',d)"
   ]
  },
  {
   "cell_type": "markdown",
   "id": "b6c8bc31",
   "metadata": {},
   "source": [
    "Areas of following shapes"
   ]
  },
  {
   "cell_type": "markdown",
   "id": "6cca5d2e",
   "metadata": {},
   "source": [
    "Rectangle"
   ]
  },
  {
   "cell_type": "code",
   "execution_count": 21,
   "id": "e863335c",
   "metadata": {},
   "outputs": [
    {
     "name": "stdout",
     "output_type": "stream",
     "text": [
      "enter the length of rectangle5\n",
      "enter the width of rectangle3\n",
      "areaofrectanglr= 15\n"
     ]
    }
   ],
   "source": [
    "length=int(input(\"enter the length of rectangle\"))\n",
    "width=int(input(\"enter the width of rectangle\"))\n",
    "area=length*width\n",
    "print(\"area of rectanglr=\",area)"
   ]
  },
  {
   "cell_type": "markdown",
   "id": "a67c04bf",
   "metadata": {},
   "source": [
    "Square"
   ]
  },
  {
   "cell_type": "markdown",
   "id": "76b7c236",
   "metadata": {},
   "source": [
    "side=int(input(\"enter the side of square\"))\n",
    "area=side*side\n",
    "print(\"area of square=\",area)"
   ]
  },
  {
   "cell_type": "markdown",
   "id": "9d32479a",
   "metadata": {},
   "source": [
    "Triangle"
   ]
  },
  {
   "cell_type": "code",
   "execution_count": 24,
   "id": "dc345c13",
   "metadata": {},
   "outputs": [
    {
     "name": "stdout",
     "output_type": "stream",
     "text": [
      "enter the base of triangle6\n",
      "enter the height of triangle4\n",
      "area oftrianglr= 12.0\n"
     ]
    }
   ],
   "source": [
    "base=int(input(\"enter the base of triangle\"))\n",
    "height=int(input(\"enter the height of triangle\"))\n",
    "area=1/2*base*height\n",
    "print(\"area oftrianglr=\",area)"
   ]
  },
  {
   "cell_type": "markdown",
   "id": "37506452",
   "metadata": {},
   "source": [
    "Circle"
   ]
  },
  {
   "cell_type": "code",
   "execution_count": 25,
   "id": "ddd16c55",
   "metadata": {},
   "outputs": [
    {
     "name": "stdout",
     "output_type": "stream",
     "text": [
      "enter the radius of circle12\n",
      "area of circle= 50.24\n"
     ]
    }
   ],
   "source": [
    "a=int(input(\"enter the radius of circle\"))\n",
    "area=3.14*r**2\n",
    "print(\"area of circle=\",area)"
   ]
  },
  {
   "cell_type": "markdown",
   "id": "eca6ac9c",
   "metadata": {},
   "source": [
    "Calculate net salary"
   ]
  },
  {
   "cell_type": "code",
   "execution_count": 6,
   "id": "4677178b",
   "metadata": {},
   "outputs": [
    {
     "name": "stdout",
     "output_type": "stream",
     "text": [
      "Enter Basic Salary:20000.0\n",
      "daily allowance 5 % of Basic Salary: 1000.0\n",
      "house rent 7% of Basic Salary: 1400.0\n",
      "providant fund 3% of Basic Salay: 600.0\n",
      "netsal: 23000.0\n"
     ]
    }
   ],
   "source": [
    "BasicSal=float(input(\"Enter Basic Salary:\"))\n",
    "DA=(BasicSal*5)/100\n",
    "HRA=(BasicSal*7)/100\n",
    "PF=(BasicSal*3)/100\n",
    "NetSal=BasicSal+DA+HRA+PF\n",
    "print(\"daily allowance 5 % of Basic Salary:\",DA)\n",
    "print(\"house rent 7% of Basic Salary:\",HRA)\n",
    "print(\"providant fund 3% of Basic Salay:\",PF)\n",
    "print(\"netsal:\",NetSal)"
   ]
  },
  {
   "cell_type": "markdown",
   "id": "1cdf83df",
   "metadata": {},
   "source": [
    "Power of number"
   ]
  },
  {
   "cell_type": "code",
   "execution_count": 7,
   "id": "8ec96d99",
   "metadata": {},
   "outputs": [
    {
     "name": "stdout",
     "output_type": "stream",
     "text": [
      "343\n"
     ]
    }
   ],
   "source": [
    "a=7\n",
    "b=3\n",
    "c=a**b\n",
    "print(c)"
   ]
  },
  {
   "cell_type": "markdown",
   "id": "c964fee8",
   "metadata": {},
   "source": [
    "Python version"
   ]
  },
  {
   "cell_type": "code",
   "execution_count": 11,
   "id": "c5d3ab67",
   "metadata": {},
   "outputs": [
    {
     "name": "stdout",
     "output_type": "stream",
     "text": [
      "python version\n",
      "3.9.13 (main, Aug 25 2022, 23:51:50) [MSC v.1916 64 bit (AMD64)]\n",
      "python info\n",
      "sys.version_info(major=3, minor=9, micro=13, releaselevel='final', serial=0)\n"
     ]
    }
   ],
   "source": [
    "import sys\n",
    "print(\"python version\")\n",
    "print(sys.version)\n",
    "print(\"python info\")\n",
    "print(sys.version_info)"
   ]
  },
  {
   "cell_type": "code",
   "execution_count": 12,
   "id": "ced4434a",
   "metadata": {},
   "outputs": [
    {
     "name": "stdout",
     "output_type": "stream",
     "text": [
      "python version\n",
      "3.9.13 (main, Aug 25 2022, 23:51:50) [MSC v.1916 64 bit (AMD64)]\n"
     ]
    }
   ],
   "source": [
    "import sys\n",
    "print(\"python version\")\n",
    "print(sys.version)"
   ]
  },
  {
   "cell_type": "code",
   "execution_count": null,
   "id": "746535e8",
   "metadata": {},
   "outputs": [],
   "source": []
  }
 ],
 "metadata": {
  "kernelspec": {
   "display_name": "Python 3 (ipykernel)",
   "language": "python",
   "name": "python3"
  },
  "language_info": {
   "codemirror_mode": {
    "name": "ipython",
    "version": 3
   },
   "file_extension": ".py",
   "mimetype": "text/x-python",
   "name": "python",
   "nbconvert_exporter": "python",
   "pygments_lexer": "ipython3",
   "version": "3.9.13"
  }
 },
 "nbformat": 4,
 "nbformat_minor": 5
}
