{
 "cells": [
  {
   "cell_type": "markdown",
   "id": "9a2dfcbe",
   "metadata": {},
   "source": [
    "1.Write a program to check whether a given number is even or odd."
   ]
  },
  {
   "cell_type": "code",
   "execution_count": 2,
   "id": "36552d2f",
   "metadata": {},
   "outputs": [
    {
     "name": "stdout",
     "output_type": "stream",
     "text": [
      "enter the number55\n",
      "number is odd\n"
     ]
    }
   ],
   "source": [
    "number=int(input('enter the number'))\n",
    "if(number%2)==0:\n",
    "    print(\"number is even\")\n",
    "else:\n",
    "    print(\"number is odd\")"
   ]
  },
  {
   "cell_type": "code",
   "execution_count": 3,
   "id": "7a2e3aca",
   "metadata": {},
   "outputs": [
    {
     "name": "stdout",
     "output_type": "stream",
     "text": [
      "enter the number78\n",
      "number is even\n"
     ]
    }
   ],
   "source": [
    "number=int(input('enter the number'))\n",
    "if(number%2)==0:\n",
    "    print(\"number is even\")\n",
    "else:\n",
    "    print(\"number is odd\")"
   ]
  },
  {
   "cell_type": "markdown",
   "id": "3bbf8551",
   "metadata": {},
   "source": [
    "2.Write a program to check whether an alphabet is avowel or consonant."
   ]
  },
  {
   "cell_type": "code",
   "execution_count": 4,
   "id": "a3f0009e",
   "metadata": {},
   "outputs": [
    {
     "name": "stdout",
     "output_type": "stream",
     "text": [
      "enter the alphabet:u\n",
      "alphabet is vowel\n"
     ]
    }
   ],
   "source": [
    "m=input(\"enter the alphabet:\")\n",
    "if(\"a\",\"e\",\"i\",\"o\"\"u\"):\n",
    "    print(\"alphabet is vowel\")\n",
    "else:\n",
    "    print(\"alphabet is consonant\")"
   ]
  },
  {
   "cell_type": "code",
   "execution_count": 5,
   "id": "5bcfb303",
   "metadata": {},
   "outputs": [
    {
     "name": "stdout",
     "output_type": "stream",
     "text": [
      "enter the alphabet:p\n",
      "alphabet is vowel\n"
     ]
    }
   ],
   "source": [
    "m=input(\"enter the alphabet:\")\n",
    "if(\"a\",\"e\",\"i\",\"o\"\"u\"):\n",
    "    print(\"alphabet is vowel\")\n",
    "else:\n",
    "    print(\"alphabet is consonant\")"
   ]
  },
  {
   "cell_type": "markdown",
   "id": "1eafc10f",
   "metadata": {},
   "source": [
    "Write a program to check whether a person is eligible to vote or not"
   ]
  },
  {
   "cell_type": "code",
   "execution_count": 6,
   "id": "39768c82",
   "metadata": {},
   "outputs": [
    {
     "name": "stdout",
     "output_type": "stream",
     "text": [
      "enter the age55\n",
      "eligible to vote\n"
     ]
    }
   ],
   "source": [
    "age=int(input(\"enter the age\"))\n",
    "if(age>=18):\n",
    "    print(\"eligible to vote\")\n",
    "else:\n",
    "    print(\"eligible to not vote\")"
   ]
  },
  {
   "cell_type": "code",
   "execution_count": 7,
   "id": "b6af8af1",
   "metadata": {},
   "outputs": [
    {
     "name": "stdout",
     "output_type": "stream",
     "text": [
      "enter the age17\n",
      "eligible to not vote\n"
     ]
    }
   ],
   "source": [
    "age=int(input(\"enter the age\"))\n",
    "if(age>=18):\n",
    "    print(\"eligible to vote\")\n",
    "else:\n",
    "    print(\"eligible to not vote\")"
   ]
  },
  {
   "cell_type": "markdown",
   "id": "5c9b002f",
   "metadata": {},
   "source": [
    "Write a program to check whether a given number as positive,negative or zero."
   ]
  },
  {
   "cell_type": "code",
   "execution_count": 8,
   "id": "a7104743",
   "metadata": {},
   "outputs": [
    {
     "name": "stdout",
     "output_type": "stream",
     "text": [
      "enter the number0\n",
      "zero\n"
     ]
    }
   ],
   "source": [
    "n=int(input('enter the number'))\n",
    "if(n>0):\n",
    "    print(\"positive number\")\n",
    "elif n==0:\n",
    "    print(\"zero\")\n",
    "else:\n",
    "    print(\"negative number\")"
   ]
  },
  {
   "cell_type": "code",
   "execution_count": 9,
   "id": "44877d5c",
   "metadata": {},
   "outputs": [
    {
     "name": "stdout",
     "output_type": "stream",
     "text": [
      "enter the number5\n",
      "positive number\n"
     ]
    }
   ],
   "source": [
    "n=int(input('enter the number'))\n",
    "if(n>0):\n",
    "    print(\"positive number\")\n",
    "elif n==0:\n",
    "    print(\"zero\")\n",
    "else:\n",
    "    print(\"negative number\")\n",
    "    "
   ]
  },
  {
   "cell_type": "code",
   "execution_count": 10,
   "id": "24d89e57",
   "metadata": {},
   "outputs": [
    {
     "name": "stdout",
     "output_type": "stream",
     "text": [
      "enter the number-8\n",
      "negative number\n"
     ]
    }
   ],
   "source": [
    "n=int(input('enter the number'))\n",
    "if(n>0):\n",
    "    print(\"positive number\")\n",
    "elif n==0:\n",
    "    print(\"zero\")\n",
    "else:\n",
    "    print(\"negative number\")"
   ]
  },
  {
   "cell_type": "markdown",
   "id": "57dc91e6",
   "metadata": {},
   "source": [
    "Write a program to check whether a given year is leap or not"
   ]
  },
  {
   "cell_type": "code",
   "execution_count": 17,
   "id": "58efdc02",
   "metadata": {},
   "outputs": [
    {
     "name": "stdout",
     "output_type": "stream",
     "text": [
      "enter the year1982\n",
      "year is not leap\n"
     ]
    }
   ],
   "source": [
    "year=int(input(\"enter the year\"))\n",
    "if (year%400==0and year%100==0):\n",
    "    print(\"year is leap\")\n",
    "else:\n",
    "    print(\"year is not leap\")"
   ]
  },
  {
   "cell_type": "code",
   "execution_count": 18,
   "id": "9b9b859d",
   "metadata": {},
   "outputs": [
    {
     "name": "stdout",
     "output_type": "stream",
     "text": [
      "enter the year2000\n",
      "year is leap\n"
     ]
    }
   ],
   "source": [
    "year=int(input(\"enter the year\"))\n",
    "if (year%400==0and year%100==0):\n",
    "    print(\"year is leap\")\n",
    "else:\n",
    "    print(\"year is not leap\")"
   ]
  },
  {
   "cell_type": "markdown",
   "id": "17553afd",
   "metadata": {},
   "source": [
    "5.write a program to check a triangle is equilateral ,isosceles or scalence."
   ]
  },
  {
   "cell_type": "code",
   "execution_count": 12,
   "id": "365713d7",
   "metadata": {},
   "outputs": [
    {
     "name": "stdout",
     "output_type": "stream",
     "text": [
      "enter first side45\n",
      "enter second side45\n",
      "enter third side45\n",
      "equilateral triangle\n"
     ]
    }
   ],
   "source": [
    "a=int(input('enter first side'))\n",
    "b=int(input('enter second side'))\n",
    "c=int(input('enter third side'))\n",
    "if a==b==c:\n",
    "    print('equilateral triangle')\n",
    "elif a==b!=c:\n",
    "    print('isosceles')\n",
    "else:\n",
    "    print('scalence')\n",
    "\n"
   ]
  },
  {
   "cell_type": "code",
   "execution_count": 13,
   "id": "064d4d06",
   "metadata": {},
   "outputs": [
    {
     "name": "stdout",
     "output_type": "stream",
     "text": [
      "enter first side60\n",
      "enter second side60\n",
      "enter third side45\n",
      "isosceles\n"
     ]
    }
   ],
   "source": [
    "a=int(input('enter first side'))\n",
    "b=int(input('enter second side'))\n",
    "c=int(input('enter third side'))\n",
    "if a==b==c:\n",
    "    print('equilateral triangle')\n",
    "elif a==b!=c:\n",
    "    print('isosceles')\n",
    "else:\n",
    "    print('scalence')\n",
    "\n"
   ]
  },
  {
   "cell_type": "code",
   "execution_count": 14,
   "id": "5222bbb3",
   "metadata": {},
   "outputs": [
    {
     "name": "stdout",
     "output_type": "stream",
     "text": [
      "enter first side60\n",
      "enter second side45\n",
      "enter third side55\n",
      "scalence\n"
     ]
    }
   ],
   "source": [
    "a=int(input('enter first side'))\n",
    "b=int(input('enter second side'))\n",
    "c=int(input('enter third side'))\n",
    "if a==b==c:\n",
    "    print('equilateral triangle')\n",
    "elif a==b!=c:\n",
    "    print('isosceles')\n",
    "else:\n",
    "    print('scalence')\n",
    "\n"
   ]
  },
  {
   "cell_type": "markdown",
   "id": "36fb6117",
   "metadata": {},
   "source": [
    "Write a program to check whether after selling a product is profit or loss."
   ]
  },
  {
   "cell_type": "code",
   "execution_count": 15,
   "id": "630b884f",
   "metadata": {},
   "outputs": [
    {
     "name": "stdout",
     "output_type": "stream",
     "text": [
      "enter the CP 1200\n",
      "enter the SP1000\n",
      "profit\n"
     ]
    }
   ],
   "source": [
    "a=int(input('enter the CP '))\n",
    "b=int(input('enter the SP'))\n",
    "if a>b:\n",
    "    print('profit')\n",
    "else:\n",
    "    print('loss')"
   ]
  },
  {
   "cell_type": "code",
   "execution_count": 16,
   "id": "4ae2aff1",
   "metadata": {},
   "outputs": [
    {
     "name": "stdout",
     "output_type": "stream",
     "text": [
      "enter the CP 2000\n",
      "enter the SP2500\n",
      "loss\n"
     ]
    }
   ],
   "source": [
    "a=int(input('enter the CP '))\n",
    "b=int(input('enter the SP'))\n",
    "if a>b:\n",
    "    print('profit')\n",
    "else:\n",
    "    print('loss')"
   ]
  },
  {
   "cell_type": "markdown",
   "id": "e08e3a32",
   "metadata": {},
   "source": [
    "# Write a program to enter two numbers and print the greatest number."
   ]
  },
  {
   "cell_type": "code",
   "execution_count": 1,
   "id": "5518cbf7",
   "metadata": {},
   "outputs": [
    {
     "name": "stdout",
     "output_type": "stream",
     "text": [
      "enter the first number66\n",
      "enter the second number55\n",
      "66 is the greatest number\n"
     ]
    }
   ],
   "source": [
    "n=int(input('enter the first number'))\n",
    "m=int(input('enter the second number'))\n",
    "if n>m:\n",
    "    print(n,'is the greatest number')\n",
    "else:\n",
    "    print(m,'is the greastest number')"
   ]
  },
  {
   "cell_type": "markdown",
   "id": "7651ba4f",
   "metadata": {},
   "source": [
    "# Write a program to enter two numbers and print the smallest number."
   ]
  },
  {
   "cell_type": "code",
   "execution_count": 2,
   "id": "fb0c5915",
   "metadata": {},
   "outputs": [
    {
     "name": "stdout",
     "output_type": "stream",
     "text": [
      "enter the first number67\n",
      "enter the second number36\n",
      "36 is the smallest number\n"
     ]
    }
   ],
   "source": [
    "n=int(input('enter the first number'))\n",
    "m=int(input('enter the second number'))\n",
    "if n<m:\n",
    "    print(n,'is the smallest  number')\n",
    "else:\n",
    "    print(m,'is the smallest number')"
   ]
  },
  {
   "cell_type": "markdown",
   "id": "0b890246",
   "metadata": {},
   "source": [
    "# Write a program to enter three numbers and print the greatest number."
   ]
  },
  {
   "cell_type": "code",
   "execution_count": 3,
   "id": "382a98ac",
   "metadata": {},
   "outputs": [
    {
     "name": "stdout",
     "output_type": "stream",
     "text": [
      "enter the first number78\n",
      "enter the second number98\n",
      "enter the third number56\n",
      "98 greastest number\n"
     ]
    }
   ],
   "source": [
    "n=int(input('enter the first number'))\n",
    "m=int(input('enter the second number'))\n",
    "o=int(input('enter the third number'))\n",
    "if n>m:\n",
    "    print(n,'greatest number')\n",
    "elif m>n:\n",
    "    print(m,'greastest number')\n",
    "else:\n",
    "    print(o,'greastest number')"
   ]
  },
  {
   "cell_type": "markdown",
   "id": "920cb757",
   "metadata": {},
   "source": [
    "# Write a program to enter three numbers and print the smallest number."
   ]
  },
  {
   "cell_type": "code",
   "execution_count": 4,
   "id": "af3cc778",
   "metadata": {},
   "outputs": [
    {
     "name": "stdout",
     "output_type": "stream",
     "text": [
      "enter the first number78\n",
      "enter the second number45\n",
      "enter the third number58\n",
      "45 smallest number\n"
     ]
    }
   ],
   "source": [
    "n=int(input('enter the first number'))\n",
    "m=int(input('enter the second number'))\n",
    "o=int(input('enter the third number'))\n",
    "if n<m:\n",
    "    print(n,'smallest number')\n",
    "elif m<n:\n",
    "    print(m,'smallest number')\n",
    "else:\n",
    "    print(o,'smallest number')"
   ]
  },
  {
   "cell_type": "markdown",
   "id": "d71f6144",
   "metadata": {},
   "source": [
    "# Write a program to calculate the roots of quadratic equation."
   ]
  },
  {
   "cell_type": "code",
   "execution_count": 5,
   "id": "d3c1230a",
   "metadata": {},
   "outputs": [
    {
     "name": "stdout",
     "output_type": "stream",
     "text": [
      "enter the value of a3\n",
      "enter the value of b8\n",
      "enter the value of c3\n",
      "root1 of quadratic equation= (-0.06274606680622785+0j)\n",
      "root2 of quadratic equation= (-15.937253933193773+0j)\n"
     ]
    }
   ],
   "source": [
    "import cmath \n",
    "a=float(input('enter the value of a'))\n",
    "b=float(input('enter the value of b'))\n",
    "c=float(input('enter the value of c'))\n",
    "dis=(b**2)-4*a*c #dis=discriminant\n",
    "if dis>0:\n",
    "    root1=(-b+cmath.sqrt(dis)/2*a)\n",
    "    root2=(-b-cmath.sqrt(dis)/2*a)\n",
    "    print('root1 of quadratic equation=',root1)\n",
    "    print('root2 of quadratic equation=',root2)"
   ]
  },
  {
   "cell_type": "markdown",
   "id": "279a8091",
   "metadata": {},
   "source": [
    "# Write a program to enter a number between(1-7) and print the respective day of the week."
   ]
  },
  {
   "cell_type": "code",
   "execution_count": 6,
   "id": "65a5e507",
   "metadata": {},
   "outputs": [
    {
     "name": "stdout",
     "output_type": "stream",
     "text": [
      "enter a number to print the name of the week5\n",
      "Friday\n"
     ]
    }
   ],
   "source": [
    "a=int(input(\"enter a number to print the name of the week\"))\n",
    "if a==1:\n",
    "    print(\"Monday\")\n",
    "elif a==2:\n",
    "    print(\"Tuesday\")\n",
    "elif a==3:\n",
    "    print(\"Wednesday\")\n",
    "elif a==4:\n",
    "    print(\"Thursday\")\n",
    "elif a==5:\n",
    "    print(\"Friday\")\n",
    "elif a==6:\n",
    "    print(\"Saturday\")\n",
    "else:\n",
    "    print(\"Sunday\")\n",
    "    "
   ]
  },
  {
   "cell_type": "markdown",
   "id": "d9fcf29d",
   "metadata": {},
   "source": [
    "# Write a program to enter a number between (1-12) and print the respective month."
   ]
  },
  {
   "cell_type": "code",
   "execution_count": 7,
   "id": "2b8e4c2f",
   "metadata": {},
   "outputs": [
    {
     "name": "stdout",
     "output_type": "stream",
     "text": [
      "enter a number to print the name of the month4\n",
      "April\n"
     ]
    }
   ],
   "source": [
    "a=int(input(\"enter a number to print the name of the month\"))\n",
    "if a==1:\n",
    "    print(\"January\")\n",
    "elif a==2:\n",
    "    print(\"February\")\n",
    "elif a==3:\n",
    "    print(\"March\")\n",
    "elif a==4:\n",
    "    print(\"April\")\n",
    "elif a==5:\n",
    "    print(\"May\")\n",
    "elif a==6:\n",
    "    print(\"June\")\n",
    "elif a==7:\n",
    "    print(\"July\")\n",
    "elif a==8:\n",
    "    print(\"August\")\n",
    "elif a==9:\n",
    "    print(\"September\")\n",
    "elif a==10:\n",
    "    print(\"October\")\n",
    "elif a==11:\n",
    "    print(\"November\")\n",
    "else:\n",
    "    print(\"December\")"
   ]
  },
  {
   "cell_type": "markdown",
   "id": "81aae1e3",
   "metadata": {},
   "source": [
    "# Write a program to enter a number between (1-4) and perform the following operations."
   ]
  },
  {
   "cell_type": "markdown",
   "id": "2f7bc83f",
   "metadata": {},
   "source": [
    "addition"
   ]
  },
  {
   "cell_type": "code",
   "execution_count": 8,
   "id": "c156dd9b",
   "metadata": {},
   "outputs": [
    {
     "name": "stdout",
     "output_type": "stream",
     "text": [
      "enter number upto 4=3\n",
      "sum= 10\n"
     ]
    }
   ],
   "source": [
    "n=int(input(\"enter number upto 4=\"))\n",
    "i=1\n",
    "sum=0\n",
    "while(i<=4):\n",
    "    sum=sum+i\n",
    "    i=i+1\n",
    "print(\"sum=\",sum)    \n"
   ]
  },
  {
   "cell_type": "markdown",
   "id": "a2138b74",
   "metadata": {},
   "source": [
    "# Write a program to convert temperatures to and from celsius ,Fahrenheit."
   ]
  },
  {
   "cell_type": "code",
   "execution_count": 9,
   "id": "96d15011",
   "metadata": {},
   "outputs": [
    {
     "name": "stdout",
     "output_type": "stream",
     "text": [
      "enter temperature in celsius 39\n",
      "Temperature in fahrenheit 102.2\n"
     ]
    }
   ],
   "source": [
    "celsius=float(input('enter temperature in celsius '))\n",
    "fahrenheit =(celsius*1.8)+32\n",
    "print('Temperature in fahrenheit',fahrenheit)"
   ]
  },
  {
   "cell_type": "markdown",
   "id": "fff1b5b5",
   "metadata": {},
   "source": [
    "# A company decided to give bonus of 5% to employee if his/her year of service is more than 5 years.Ask user for their salary and year of service and print the net bonus amount."
   ]
  },
  {
   "cell_type": "code",
   "execution_count": 10,
   "id": "0f74a6e9",
   "metadata": {},
   "outputs": [
    {
     "name": "stdout",
     "output_type": "stream",
     "text": [
      "enter the year of service8\n",
      "enter the salary60000\n",
      "bonus: 3000.0\n"
     ]
    }
   ],
   "source": [
    "year=int(input(\"enter the year of service\"))\n",
    "salary=int(input(\"enter the salary\"))\n",
    "bonus=5/100*salary\n",
    "if year>5:\n",
    "    print(\"bonus:\",bonus)\n",
    "else:\n",
    "    print(\"No bonus\")"
   ]
  },
  {
   "cell_type": "markdown",
   "id": "086fb4d3",
   "metadata": {},
   "source": [
    "# Write a program to take input of length and breath of a rectangle from user and check if it is square or not."
   ]
  },
  {
   "cell_type": "code",
   "execution_count": 11,
   "id": "cc71e2d4",
   "metadata": {},
   "outputs": [
    {
     "name": "stdout",
     "output_type": "stream",
     "text": [
      "enter the length 14\n",
      "enter the breath 20\n",
      "It is not square\n"
     ]
    }
   ],
   "source": [
    "length=int(input(\"enter the length \"))\n",
    "breath=int(input(\"enter the breath \"))\n",
    "if length==breath:\n",
    "    print('It is square')\n",
    "else:\n",
    "    print('It is not square')\n",
    "\n"
   ]
  },
  {
   "cell_type": "code",
   "execution_count": 12,
   "id": "48b4f180",
   "metadata": {},
   "outputs": [
    {
     "name": "stdout",
     "output_type": "stream",
     "text": [
      "enter the length 24\n",
      "enter the breath 24\n",
      "It is square\n"
     ]
    }
   ],
   "source": [
    "length=int(input(\"enter the length \"))\n",
    "breath=int(input(\"enter the breath \"))\n",
    "if length==breath:\n",
    "    print('It is square')\n",
    "else:\n",
    "    print('It is not square')\n"
   ]
  },
  {
   "cell_type": "markdown",
   "id": "3a7b071b",
   "metadata": {},
   "source": [
    "# Take input of age of 3 people by user and determine oldest and youngest among them."
   ]
  },
  {
   "cell_type": "code",
   "execution_count": 13,
   "id": "cdb4b6ed",
   "metadata": {},
   "outputs": [
    {
     "name": "stdout",
     "output_type": "stream",
     "text": [
      "enter the age55\n",
      "enter the age62\n",
      "enter the age37\n",
      "oldest age is: 62\n",
      "youngest age is: 37\n"
     ]
    }
   ],
   "source": [
    "age1=int(input(\"enter the age\"))\n",
    "age2=int(input(\"enter the age\"))\n",
    "age3=int(input(\"enter the age\"))\n",
    "maxage=max(age1,age2,age3)\n",
    "minage=min(age1,age2,age3)\n",
    "print(\"oldest age is:\",maxage)\n",
    "print(\"youngest age is:\",minage)"
   ]
  },
  {
   "cell_type": "markdown",
   "id": "44fa4362",
   "metadata": {},
   "source": [
    "# A school has following rules for grading system"
   ]
  },
  {
   "cell_type": "markdown",
   "id": "094f5244",
   "metadata": {},
   "source": [
    "a.Below 25-F b.25 to 45-E c.45 to 50-D d.50 to 60-C E.60 to 80-B f.above 80-A"
   ]
  },
  {
   "cell_type": "code",
   "execution_count": 14,
   "id": "3e135914",
   "metadata": {},
   "outputs": [
    {
     "name": "stdout",
     "output_type": "stream",
     "text": [
      "enter the marks 78\n",
      "Grade B\n"
     ]
    }
   ],
   "source": [
    "a=int(input(\"enter the marks \"))\n",
    "if a<25:\n",
    "    print(\"Grade F\")\n",
    "elif a>=25 and a<45:\n",
    "    print(\"Grade E\")\n",
    "elif a>=45 and a<50:\n",
    "    print(\"Grade D\")\n",
    "elif a>=50 and a<60:\n",
    "    print(\"Grade C\")\n",
    "elif a>=60 and a<80:\n",
    "    print(\"Grade B\")\n",
    "else:\n",
    "    print(\"Grade A\")"
   ]
  },
  {
   "cell_type": "code",
   "execution_count": 15,
   "id": "81df8520",
   "metadata": {},
   "outputs": [
    {
     "name": "stdout",
     "output_type": "stream",
     "text": [
      "enter the marks 57\n",
      "Grade C\n"
     ]
    }
   ],
   "source": [
    "a=int(input(\"enter the marks \"))\n",
    "if a<25:\n",
    "    print(\"Grade F\")\n",
    "elif a>=25 and a<45:\n",
    "    print(\"Grade E\")\n",
    "elif a>=45 and a<50:\n",
    "    print(\"Grade D\")\n",
    "elif a>=50 and a<60:\n",
    "    print(\"Grade C\")\n",
    "elif a>=60 and a<80:\n",
    "    print(\"Grade B\")\n",
    "else:\n",
    "    print(\"Grade A\")"
   ]
  },
  {
   "cell_type": "code",
   "execution_count": null,
   "id": "972756cf",
   "metadata": {},
   "outputs": [],
   "source": []
  }
 ],
 "metadata": {
  "kernelspec": {
   "display_name": "Python 3 (ipykernel)",
   "language": "python",
   "name": "python3"
  },
  "language_info": {
   "codemirror_mode": {
    "name": "ipython",
    "version": 3
   },
   "file_extension": ".py",
   "mimetype": "text/x-python",
   "name": "python",
   "nbconvert_exporter": "python",
   "pygments_lexer": "ipython3",
   "version": "3.9.13"
  }
 },
 "nbformat": 4,
 "nbformat_minor": 5
}
